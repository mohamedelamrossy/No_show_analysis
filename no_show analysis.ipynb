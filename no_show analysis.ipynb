{
 "cells": [
  {
   "cell_type": "markdown",
   "id": "b847cd6b",
   "metadata": {},
   "source": [
    "# Project: No_Show_Appointment\n",
    "\n",
    "## Table of Contents\n",
    "<ul>\n",
    "<li><a href=\"#intro\">Introduction</a></li>\n",
    "<li><a href=\"#wrangling\">Data Wrangling</a></li>\n",
    "<li><a href=\"#eda\">Exploratory Data Analysis</a></li>\n",
    "<li><a href=\"#conclusions\">Conclusions</a></li>\n",
    "</ul>"
   ]
  },
  {
   "cell_type": "markdown",
   "id": "3f6330ae",
   "metadata": {},
   "source": [
    "<a id='intro'></a>\n",
    "## Introduction\n",
    "\n",
    "### Dataset Description \n",
    "\n",
    "This dataset collects informationfrom 100k medical appointments in Brazil and is focused on the question of whether or not patients show up for their appointment. A number of characteristics about the patient are included in each row.\n",
    "\n",
    "\n",
    "The data have 14 columns and we will explain each column and jop of it .\n",
    "\n",
    "list of columns :\n",
    "\n",
    "1- PatientId : show the id number of patient\n",
    "\n",
    "2- Appointmentid : show the id number of appointment\n",
    "\n",
    "3- Gender : show the gender of patients which 'M' for 'Male' and 'F' for Female'\n",
    "\n",
    "4- ScheduledDay : show the day which patient set up the appointment\n",
    "\n",
    "5- AppointmentDay : the day which patient select it\n",
    "\n",
    "6- Age : show the age of patient\n",
    "\n",
    "7- Neighbourhood : the place of hospital or clinic\n",
    "\n",
    "8- Scholarship : show whether or not the patient is enrolled in Brasilian welfare program\n",
    "\n",
    "9- Hipertension : show whether or not patient had hipertension which '0' for false and '1' for true\n",
    "\n",
    "10- Diabetes : show whether or not patient had diabetes which '0' for false and '1' for true\n",
    "\n",
    "11- Alcoholism\t: show patient were drunkard or not which '0' for false and '1' for true\n",
    "\n",
    "12- Handicap : show the rank of Handicap for patient \n",
    "\n",
    "13- SMS_received: show whether or not patient get a massege which '0' for false and '1' for true\n",
    "\n",
    "14- No_Show : show the patient attendance which 'No' for attend and 'Yes' for not attend\n",
    "\n",
    "\n",
    "we chosed the column of ' No_Show' to be the debendent variable .\n",
    "\n",
    "\n",
    "\n",
    "\n",
    "\n",
    "### Question(s) for Analysis :\n",
    "\n",
    "\n",
    "Question 1 :  How gender affect on the show up of patient  \n",
    "\n",
    "Question 2 :  How age affect on the show up of patient  \n",
    "\n",
    "Question 3 :  How neighbourhood affect on the show up of patient  \n",
    "\n",
    "Question 4 :  How scholarship affect on the show up of patient  \n",
    "\n",
    "Question 5 :  How hipertension  affect on the show up of patient  \n",
    "\n",
    "Question 6 :  How diabetes affect on the show up of patient\n",
    " \n",
    "Question 7 :  How alcoholism affect on the show up of patient  \n",
    "\n",
    "Question 8 :  How handicap affect on the show up of patient  \n",
    "\n",
    "Question 9 :  How receving sms affect on the show up of patient  "
   ]
  },
  {
   "cell_type": "markdown",
   "id": "e0de9c0a",
   "metadata": {},
   "source": [
    "<a id='wrangling'></a>\n",
    "## Data Wrangling\n",
    "\n"
   ]
  },
  {
   "cell_type": "markdown",
   "id": "19c31f41",
   "metadata": {},
   "source": [
    "### gathering data"
   ]
  },
  {
   "cell_type": "code",
   "execution_count": 1,
   "id": "f57058f2",
   "metadata": {},
   "outputs": [],
   "source": [
    "# Load your data and print out a few lines. Perform operations to inspect data\n",
    "# import the libraries that you use\n",
    "import pandas as pd \n",
    "import numpy as np \n",
    "import matplotlib.pyplot as plt \n",
    "import seaborn as sns \n",
    "%matplotlib inline\n"
   ]
  },
  {
   "cell_type": "code",
   "execution_count": 63,
   "id": "aeed7046",
   "metadata": {},
   "outputs": [],
   "source": [
    "# load the data\n",
    "df = pd.read_csv('noshowappointments-kagglev2-may-2016.csv')\n",
    "\n"
   ]
  },
  {
   "cell_type": "code",
   "execution_count": 64,
   "id": "9b61e349",
   "metadata": {},
   "outputs": [
    {
     "data": {
      "text/html": [
       "<div>\n",
       "<style scoped>\n",
       "    .dataframe tbody tr th:only-of-type {\n",
       "        vertical-align: middle;\n",
       "    }\n",
       "\n",
       "    .dataframe tbody tr th {\n",
       "        vertical-align: top;\n",
       "    }\n",
       "\n",
       "    .dataframe thead th {\n",
       "        text-align: right;\n",
       "    }\n",
       "</style>\n",
       "<table border=\"1\" class=\"dataframe\">\n",
       "  <thead>\n",
       "    <tr style=\"text-align: right;\">\n",
       "      <th></th>\n",
       "      <th>PatientId</th>\n",
       "      <th>AppointmentID</th>\n",
       "      <th>Gender</th>\n",
       "      <th>ScheduledDay</th>\n",
       "      <th>AppointmentDay</th>\n",
       "      <th>Age</th>\n",
       "      <th>Neighbourhood</th>\n",
       "      <th>Scholarship</th>\n",
       "      <th>Hipertension</th>\n",
       "      <th>Diabetes</th>\n",
       "      <th>Alcoholism</th>\n",
       "      <th>Handcap</th>\n",
       "      <th>SMS_received</th>\n",
       "      <th>No-show</th>\n",
       "    </tr>\n",
       "  </thead>\n",
       "  <tbody>\n",
       "    <tr>\n",
       "      <th>0</th>\n",
       "      <td>2.987250e+13</td>\n",
       "      <td>5642903</td>\n",
       "      <td>F</td>\n",
       "      <td>2016-04-29T18:38:08Z</td>\n",
       "      <td>2016-04-29T00:00:00Z</td>\n",
       "      <td>62</td>\n",
       "      <td>JARDIM DA PENHA</td>\n",
       "      <td>0</td>\n",
       "      <td>1</td>\n",
       "      <td>0</td>\n",
       "      <td>0</td>\n",
       "      <td>0</td>\n",
       "      <td>0</td>\n",
       "      <td>No</td>\n",
       "    </tr>\n",
       "    <tr>\n",
       "      <th>1</th>\n",
       "      <td>5.589978e+14</td>\n",
       "      <td>5642503</td>\n",
       "      <td>M</td>\n",
       "      <td>2016-04-29T16:08:27Z</td>\n",
       "      <td>2016-04-29T00:00:00Z</td>\n",
       "      <td>56</td>\n",
       "      <td>JARDIM DA PENHA</td>\n",
       "      <td>0</td>\n",
       "      <td>0</td>\n",
       "      <td>0</td>\n",
       "      <td>0</td>\n",
       "      <td>0</td>\n",
       "      <td>0</td>\n",
       "      <td>No</td>\n",
       "    </tr>\n",
       "    <tr>\n",
       "      <th>2</th>\n",
       "      <td>4.262962e+12</td>\n",
       "      <td>5642549</td>\n",
       "      <td>F</td>\n",
       "      <td>2016-04-29T16:19:04Z</td>\n",
       "      <td>2016-04-29T00:00:00Z</td>\n",
       "      <td>62</td>\n",
       "      <td>MATA DA PRAIA</td>\n",
       "      <td>0</td>\n",
       "      <td>0</td>\n",
       "      <td>0</td>\n",
       "      <td>0</td>\n",
       "      <td>0</td>\n",
       "      <td>0</td>\n",
       "      <td>No</td>\n",
       "    </tr>\n",
       "    <tr>\n",
       "      <th>3</th>\n",
       "      <td>8.679512e+11</td>\n",
       "      <td>5642828</td>\n",
       "      <td>F</td>\n",
       "      <td>2016-04-29T17:29:31Z</td>\n",
       "      <td>2016-04-29T00:00:00Z</td>\n",
       "      <td>8</td>\n",
       "      <td>PONTAL DE CAMBURI</td>\n",
       "      <td>0</td>\n",
       "      <td>0</td>\n",
       "      <td>0</td>\n",
       "      <td>0</td>\n",
       "      <td>0</td>\n",
       "      <td>0</td>\n",
       "      <td>No</td>\n",
       "    </tr>\n",
       "    <tr>\n",
       "      <th>4</th>\n",
       "      <td>8.841186e+12</td>\n",
       "      <td>5642494</td>\n",
       "      <td>F</td>\n",
       "      <td>2016-04-29T16:07:23Z</td>\n",
       "      <td>2016-04-29T00:00:00Z</td>\n",
       "      <td>56</td>\n",
       "      <td>JARDIM DA PENHA</td>\n",
       "      <td>0</td>\n",
       "      <td>1</td>\n",
       "      <td>1</td>\n",
       "      <td>0</td>\n",
       "      <td>0</td>\n",
       "      <td>0</td>\n",
       "      <td>No</td>\n",
       "    </tr>\n",
       "  </tbody>\n",
       "</table>\n",
       "</div>"
      ],
      "text/plain": [
       "      PatientId  AppointmentID Gender          ScheduledDay  \\\n",
       "0  2.987250e+13        5642903      F  2016-04-29T18:38:08Z   \n",
       "1  5.589978e+14        5642503      M  2016-04-29T16:08:27Z   \n",
       "2  4.262962e+12        5642549      F  2016-04-29T16:19:04Z   \n",
       "3  8.679512e+11        5642828      F  2016-04-29T17:29:31Z   \n",
       "4  8.841186e+12        5642494      F  2016-04-29T16:07:23Z   \n",
       "\n",
       "         AppointmentDay  Age      Neighbourhood  Scholarship  Hipertension  \\\n",
       "0  2016-04-29T00:00:00Z   62    JARDIM DA PENHA            0             1   \n",
       "1  2016-04-29T00:00:00Z   56    JARDIM DA PENHA            0             0   \n",
       "2  2016-04-29T00:00:00Z   62      MATA DA PRAIA            0             0   \n",
       "3  2016-04-29T00:00:00Z    8  PONTAL DE CAMBURI            0             0   \n",
       "4  2016-04-29T00:00:00Z   56    JARDIM DA PENHA            0             1   \n",
       "\n",
       "   Diabetes  Alcoholism  Handcap  SMS_received No-show  \n",
       "0         0           0        0             0      No  \n",
       "1         0           0        0             0      No  \n",
       "2         0           0        0             0      No  \n",
       "3         0           0        0             0      No  \n",
       "4         1           0        0             0      No  "
      ]
     },
     "execution_count": 64,
     "metadata": {},
     "output_type": "execute_result"
    }
   ],
   "source": [
    "# print out a few lines\n",
    "df.head()\n"
   ]
  },
  {
   "cell_type": "markdown",
   "id": "11719be0",
   "metadata": {},
   "source": [
    "### Accessing and cleaning data"
   ]
  },
  {
   "cell_type": "code",
   "execution_count": 4,
   "id": "f90c512a",
   "metadata": {},
   "outputs": [
    {
     "data": {
      "text/plain": [
       "(110527, 14)"
      ]
     },
     "execution_count": 4,
     "metadata": {},
     "output_type": "execute_result"
    }
   ],
   "source": [
    "# the shape of the dataframe\n",
    "df.shape"
   ]
  },
  {
   "cell_type": "markdown",
   "id": "8216dd0f",
   "metadata": {},
   "source": [
    "That mean the dataframe is 110527 rows and 14 columns"
   ]
  },
  {
   "cell_type": "code",
   "execution_count": 5,
   "id": "f82fabf7",
   "metadata": {},
   "outputs": [
    {
     "data": {
      "text/html": [
       "<div>\n",
       "<style scoped>\n",
       "    .dataframe tbody tr th:only-of-type {\n",
       "        vertical-align: middle;\n",
       "    }\n",
       "\n",
       "    .dataframe tbody tr th {\n",
       "        vertical-align: top;\n",
       "    }\n",
       "\n",
       "    .dataframe thead th {\n",
       "        text-align: right;\n",
       "    }\n",
       "</style>\n",
       "<table border=\"1\" class=\"dataframe\">\n",
       "  <thead>\n",
       "    <tr style=\"text-align: right;\">\n",
       "      <th></th>\n",
       "      <th>PatientId</th>\n",
       "      <th>AppointmentID</th>\n",
       "      <th>Age</th>\n",
       "      <th>Scholarship</th>\n",
       "      <th>Hipertension</th>\n",
       "      <th>Diabetes</th>\n",
       "      <th>Alcoholism</th>\n",
       "      <th>Handcap</th>\n",
       "      <th>SMS_received</th>\n",
       "    </tr>\n",
       "  </thead>\n",
       "  <tbody>\n",
       "    <tr>\n",
       "      <th>count</th>\n",
       "      <td>1.105270e+05</td>\n",
       "      <td>1.105270e+05</td>\n",
       "      <td>110527.000000</td>\n",
       "      <td>110527.000000</td>\n",
       "      <td>110527.000000</td>\n",
       "      <td>110527.000000</td>\n",
       "      <td>110527.000000</td>\n",
       "      <td>110527.000000</td>\n",
       "      <td>110527.000000</td>\n",
       "    </tr>\n",
       "    <tr>\n",
       "      <th>mean</th>\n",
       "      <td>1.474963e+14</td>\n",
       "      <td>5.675305e+06</td>\n",
       "      <td>37.088874</td>\n",
       "      <td>0.098266</td>\n",
       "      <td>0.197246</td>\n",
       "      <td>0.071865</td>\n",
       "      <td>0.030400</td>\n",
       "      <td>0.022248</td>\n",
       "      <td>0.321026</td>\n",
       "    </tr>\n",
       "    <tr>\n",
       "      <th>std</th>\n",
       "      <td>2.560949e+14</td>\n",
       "      <td>7.129575e+04</td>\n",
       "      <td>23.110205</td>\n",
       "      <td>0.297675</td>\n",
       "      <td>0.397921</td>\n",
       "      <td>0.258265</td>\n",
       "      <td>0.171686</td>\n",
       "      <td>0.161543</td>\n",
       "      <td>0.466873</td>\n",
       "    </tr>\n",
       "    <tr>\n",
       "      <th>min</th>\n",
       "      <td>3.921784e+04</td>\n",
       "      <td>5.030230e+06</td>\n",
       "      <td>-1.000000</td>\n",
       "      <td>0.000000</td>\n",
       "      <td>0.000000</td>\n",
       "      <td>0.000000</td>\n",
       "      <td>0.000000</td>\n",
       "      <td>0.000000</td>\n",
       "      <td>0.000000</td>\n",
       "    </tr>\n",
       "    <tr>\n",
       "      <th>25%</th>\n",
       "      <td>4.172614e+12</td>\n",
       "      <td>5.640286e+06</td>\n",
       "      <td>18.000000</td>\n",
       "      <td>0.000000</td>\n",
       "      <td>0.000000</td>\n",
       "      <td>0.000000</td>\n",
       "      <td>0.000000</td>\n",
       "      <td>0.000000</td>\n",
       "      <td>0.000000</td>\n",
       "    </tr>\n",
       "    <tr>\n",
       "      <th>50%</th>\n",
       "      <td>3.173184e+13</td>\n",
       "      <td>5.680573e+06</td>\n",
       "      <td>37.000000</td>\n",
       "      <td>0.000000</td>\n",
       "      <td>0.000000</td>\n",
       "      <td>0.000000</td>\n",
       "      <td>0.000000</td>\n",
       "      <td>0.000000</td>\n",
       "      <td>0.000000</td>\n",
       "    </tr>\n",
       "    <tr>\n",
       "      <th>75%</th>\n",
       "      <td>9.439172e+13</td>\n",
       "      <td>5.725524e+06</td>\n",
       "      <td>55.000000</td>\n",
       "      <td>0.000000</td>\n",
       "      <td>0.000000</td>\n",
       "      <td>0.000000</td>\n",
       "      <td>0.000000</td>\n",
       "      <td>0.000000</td>\n",
       "      <td>1.000000</td>\n",
       "    </tr>\n",
       "    <tr>\n",
       "      <th>max</th>\n",
       "      <td>9.999816e+14</td>\n",
       "      <td>5.790484e+06</td>\n",
       "      <td>115.000000</td>\n",
       "      <td>1.000000</td>\n",
       "      <td>1.000000</td>\n",
       "      <td>1.000000</td>\n",
       "      <td>1.000000</td>\n",
       "      <td>4.000000</td>\n",
       "      <td>1.000000</td>\n",
       "    </tr>\n",
       "  </tbody>\n",
       "</table>\n",
       "</div>"
      ],
      "text/plain": [
       "          PatientId  AppointmentID            Age    Scholarship  \\\n",
       "count  1.105270e+05   1.105270e+05  110527.000000  110527.000000   \n",
       "mean   1.474963e+14   5.675305e+06      37.088874       0.098266   \n",
       "std    2.560949e+14   7.129575e+04      23.110205       0.297675   \n",
       "min    3.921784e+04   5.030230e+06      -1.000000       0.000000   \n",
       "25%    4.172614e+12   5.640286e+06      18.000000       0.000000   \n",
       "50%    3.173184e+13   5.680573e+06      37.000000       0.000000   \n",
       "75%    9.439172e+13   5.725524e+06      55.000000       0.000000   \n",
       "max    9.999816e+14   5.790484e+06     115.000000       1.000000   \n",
       "\n",
       "        Hipertension       Diabetes     Alcoholism        Handcap  \\\n",
       "count  110527.000000  110527.000000  110527.000000  110527.000000   \n",
       "mean        0.197246       0.071865       0.030400       0.022248   \n",
       "std         0.397921       0.258265       0.171686       0.161543   \n",
       "min         0.000000       0.000000       0.000000       0.000000   \n",
       "25%         0.000000       0.000000       0.000000       0.000000   \n",
       "50%         0.000000       0.000000       0.000000       0.000000   \n",
       "75%         0.000000       0.000000       0.000000       0.000000   \n",
       "max         1.000000       1.000000       1.000000       4.000000   \n",
       "\n",
       "        SMS_received  \n",
       "count  110527.000000  \n",
       "mean        0.321026  \n",
       "std         0.466873  \n",
       "min         0.000000  \n",
       "25%         0.000000  \n",
       "50%         0.000000  \n",
       "75%         1.000000  \n",
       "max         1.000000  "
      ]
     },
     "execution_count": 5,
     "metadata": {},
     "output_type": "execute_result"
    }
   ],
   "source": [
    "# get the summary statistics\n",
    "df.describe()"
   ]
  },
  {
   "cell_type": "code",
   "execution_count": 6,
   "id": "bd00dafe",
   "metadata": {},
   "outputs": [
    {
     "data": {
      "text/html": [
       "<div>\n",
       "<style scoped>\n",
       "    .dataframe tbody tr th:only-of-type {\n",
       "        vertical-align: middle;\n",
       "    }\n",
       "\n",
       "    .dataframe tbody tr th {\n",
       "        vertical-align: top;\n",
       "    }\n",
       "\n",
       "    .dataframe thead th {\n",
       "        text-align: right;\n",
       "    }\n",
       "</style>\n",
       "<table border=\"1\" class=\"dataframe\">\n",
       "  <thead>\n",
       "    <tr style=\"text-align: right;\">\n",
       "      <th></th>\n",
       "      <th>PatientId</th>\n",
       "      <th>AppointmentID</th>\n",
       "      <th>Gender</th>\n",
       "      <th>ScheduledDay</th>\n",
       "      <th>AppointmentDay</th>\n",
       "      <th>Age</th>\n",
       "      <th>Neighbourhood</th>\n",
       "      <th>Scholarship</th>\n",
       "      <th>Hipertension</th>\n",
       "      <th>Diabetes</th>\n",
       "      <th>Alcoholism</th>\n",
       "      <th>Handcap</th>\n",
       "      <th>SMS_received</th>\n",
       "      <th>No-show</th>\n",
       "    </tr>\n",
       "  </thead>\n",
       "  <tbody>\n",
       "  </tbody>\n",
       "</table>\n",
       "</div>"
      ],
      "text/plain": [
       "Empty DataFrame\n",
       "Columns: [PatientId, AppointmentID, Gender, ScheduledDay, AppointmentDay, Age, Neighbourhood, Scholarship, Hipertension, Diabetes, Alcoholism, Handcap, SMS_received, No-show]\n",
       "Index: []"
      ]
     },
     "execution_count": 6,
     "metadata": {},
     "output_type": "execute_result"
    }
   ],
   "source": [
    "# the age column have a value equal -1 and this is no logical \n",
    "# so we will remove it \n",
    "df= df.query('Age >= 0')\n",
    "# then make sure that is removed\n",
    "df[df['Age']== -1]"
   ]
  },
  {
   "cell_type": "code",
   "execution_count": 7,
   "id": "cae8e6c3",
   "metadata": {},
   "outputs": [
    {
     "name": "stdout",
     "output_type": "stream",
     "text": [
      "<class 'pandas.core.frame.DataFrame'>\n",
      "Int64Index: 110526 entries, 0 to 110526\n",
      "Data columns (total 14 columns):\n",
      " #   Column          Non-Null Count   Dtype  \n",
      "---  ------          --------------   -----  \n",
      " 0   PatientId       110526 non-null  float64\n",
      " 1   AppointmentID   110526 non-null  int64  \n",
      " 2   Gender          110526 non-null  object \n",
      " 3   ScheduledDay    110526 non-null  object \n",
      " 4   AppointmentDay  110526 non-null  object \n",
      " 5   Age             110526 non-null  int64  \n",
      " 6   Neighbourhood   110526 non-null  object \n",
      " 7   Scholarship     110526 non-null  int64  \n",
      " 8   Hipertension    110526 non-null  int64  \n",
      " 9   Diabetes        110526 non-null  int64  \n",
      " 10  Alcoholism      110526 non-null  int64  \n",
      " 11  Handcap         110526 non-null  int64  \n",
      " 12  SMS_received    110526 non-null  int64  \n",
      " 13  No-show         110526 non-null  object \n",
      "dtypes: float64(1), int64(8), object(5)\n",
      "memory usage: 12.6+ MB\n"
     ]
    }
   ],
   "source": [
    "# show the dataframe information\n",
    "df.info()"
   ]
  },
  {
   "cell_type": "code",
   "execution_count": 8,
   "id": "a0784b56",
   "metadata": {},
   "outputs": [
    {
     "data": {
      "text/plain": [
       "False"
      ]
     },
     "execution_count": 8,
     "metadata": {},
     "output_type": "execute_result"
    }
   ],
   "source": [
    "# check the missing values and clean it\n",
    "df.isnull().sum().any()"
   ]
  },
  {
   "cell_type": "markdown",
   "id": "82b64b81",
   "metadata": {},
   "source": [
    "There is no any missing value"
   ]
  },
  {
   "cell_type": "code",
   "execution_count": 9,
   "id": "6fb6537f",
   "metadata": {},
   "outputs": [
    {
     "data": {
      "text/plain": [
       "0"
      ]
     },
     "execution_count": 9,
     "metadata": {},
     "output_type": "execute_result"
    }
   ],
   "source": [
    "# check the duplicated values and clean it\n",
    "sum(df.duplicated())"
   ]
  },
  {
   "cell_type": "markdown",
   "id": "5c9fd600",
   "metadata": {},
   "source": [
    "There is no any duplicated value"
   ]
  },
  {
   "cell_type": "code",
   "execution_count": 10,
   "id": "241cb766",
   "metadata": {},
   "outputs": [
    {
     "data": {
      "text/plain": [
       "Index(['patientid', 'appointmentid', 'gender', 'scheduledday',\n",
       "       'appointmentday', 'age', 'neighbourhood', 'scholarship', 'hipertension',\n",
       "       'diabetes', 'alcoholism', 'handicap', 'sms_received', 'no_show'],\n",
       "      dtype='object')"
      ]
     },
     "execution_count": 10,
     "metadata": {},
     "output_type": "execute_result"
    }
   ],
   "source": [
    "# fix the columns lables and print the new labels\n",
    "df.rename(columns = lambda x : x.strip().lower().replace(\"-\",\"_\"),inplace= True)\n",
    "df.rename(columns = {'handcap':'handicap'},inplace = True)\n",
    "df.columns"
   ]
  },
  {
   "cell_type": "markdown",
   "id": "41398c7c",
   "metadata": {},
   "source": [
    "This the new labels which we make all is lower and changed 'no-show' to 'no_show' and 'handcap' to 'handicap'"
   ]
  },
  {
   "cell_type": "code",
   "execution_count": 11,
   "id": "c8605e62",
   "metadata": {},
   "outputs": [
    {
     "name": "stdout",
     "output_type": "stream",
     "text": [
      "<class 'pandas.core.frame.DataFrame'>\n",
      "Int64Index: 110526 entries, 0 to 110526\n",
      "Data columns (total 14 columns):\n",
      " #   Column          Non-Null Count   Dtype  \n",
      "---  ------          --------------   -----  \n",
      " 0   patientid       110526 non-null  float64\n",
      " 1   appointmentid   110526 non-null  int64  \n",
      " 2   gender          110526 non-null  object \n",
      " 3   scheduledday    110526 non-null  object \n",
      " 4   appointmentday  110526 non-null  object \n",
      " 5   age             110526 non-null  int64  \n",
      " 6   neighbourhood   110526 non-null  object \n",
      " 7   scholarship     110526 non-null  int64  \n",
      " 8   hipertension    110526 non-null  int64  \n",
      " 9   diabetes        110526 non-null  int64  \n",
      " 10  alcoholism      110526 non-null  int64  \n",
      " 11  handicap        110526 non-null  int64  \n",
      " 12  sms_received    110526 non-null  int64  \n",
      " 13  no_show         110526 non-null  object \n",
      "dtypes: float64(1), int64(8), object(5)\n",
      "memory usage: 12.6+ MB\n"
     ]
    }
   ],
   "source": [
    "# check the data type of columns and fix it \n",
    "df.info()"
   ]
  },
  {
   "cell_type": "code",
   "execution_count": 12,
   "id": "e2f90bb1",
   "metadata": {},
   "outputs": [
    {
     "data": {
      "text/plain": [
       "datetime64[ns, UTC]"
      ]
     },
     "execution_count": 12,
     "metadata": {},
     "output_type": "execute_result"
    }
   ],
   "source": [
    "# convert scheduledday column type from string to datetime\n",
    "df['scheduledday']= pd.to_datetime(df['scheduledday'])\n",
    "df['scheduledday'].dtype"
   ]
  },
  {
   "cell_type": "markdown",
   "id": "c1394d6e",
   "metadata": {},
   "source": [
    "Here we convert scheduledday column type from string to datetime"
   ]
  },
  {
   "cell_type": "code",
   "execution_count": 13,
   "id": "fef54e36",
   "metadata": {},
   "outputs": [],
   "source": [
    "# drop  rows which will not benfit us in our analysis \n",
    "df.drop(['patientid','appointmentid','appointmentday','scheduledday'],axis = 1, inplace=True)"
   ]
  },
  {
   "cell_type": "code",
   "execution_count": 14,
   "id": "64adb16b",
   "metadata": {},
   "outputs": [
    {
     "data": {
      "text/html": [
       "<div>\n",
       "<style scoped>\n",
       "    .dataframe tbody tr th:only-of-type {\n",
       "        vertical-align: middle;\n",
       "    }\n",
       "\n",
       "    .dataframe tbody tr th {\n",
       "        vertical-align: top;\n",
       "    }\n",
       "\n",
       "    .dataframe thead th {\n",
       "        text-align: right;\n",
       "    }\n",
       "</style>\n",
       "<table border=\"1\" class=\"dataframe\">\n",
       "  <thead>\n",
       "    <tr style=\"text-align: right;\">\n",
       "      <th></th>\n",
       "      <th>gender</th>\n",
       "      <th>age</th>\n",
       "      <th>neighbourhood</th>\n",
       "      <th>scholarship</th>\n",
       "      <th>hipertension</th>\n",
       "      <th>diabetes</th>\n",
       "      <th>alcoholism</th>\n",
       "      <th>handicap</th>\n",
       "      <th>sms_received</th>\n",
       "      <th>no_show</th>\n",
       "    </tr>\n",
       "  </thead>\n",
       "  <tbody>\n",
       "    <tr>\n",
       "      <th>0</th>\n",
       "      <td>F</td>\n",
       "      <td>62</td>\n",
       "      <td>JARDIM DA PENHA</td>\n",
       "      <td>0</td>\n",
       "      <td>1</td>\n",
       "      <td>0</td>\n",
       "      <td>0</td>\n",
       "      <td>0</td>\n",
       "      <td>0</td>\n",
       "      <td>No</td>\n",
       "    </tr>\n",
       "    <tr>\n",
       "      <th>1</th>\n",
       "      <td>M</td>\n",
       "      <td>56</td>\n",
       "      <td>JARDIM DA PENHA</td>\n",
       "      <td>0</td>\n",
       "      <td>0</td>\n",
       "      <td>0</td>\n",
       "      <td>0</td>\n",
       "      <td>0</td>\n",
       "      <td>0</td>\n",
       "      <td>No</td>\n",
       "    </tr>\n",
       "    <tr>\n",
       "      <th>2</th>\n",
       "      <td>F</td>\n",
       "      <td>62</td>\n",
       "      <td>MATA DA PRAIA</td>\n",
       "      <td>0</td>\n",
       "      <td>0</td>\n",
       "      <td>0</td>\n",
       "      <td>0</td>\n",
       "      <td>0</td>\n",
       "      <td>0</td>\n",
       "      <td>No</td>\n",
       "    </tr>\n",
       "    <tr>\n",
       "      <th>3</th>\n",
       "      <td>F</td>\n",
       "      <td>8</td>\n",
       "      <td>PONTAL DE CAMBURI</td>\n",
       "      <td>0</td>\n",
       "      <td>0</td>\n",
       "      <td>0</td>\n",
       "      <td>0</td>\n",
       "      <td>0</td>\n",
       "      <td>0</td>\n",
       "      <td>No</td>\n",
       "    </tr>\n",
       "    <tr>\n",
       "      <th>4</th>\n",
       "      <td>F</td>\n",
       "      <td>56</td>\n",
       "      <td>JARDIM DA PENHA</td>\n",
       "      <td>0</td>\n",
       "      <td>1</td>\n",
       "      <td>1</td>\n",
       "      <td>0</td>\n",
       "      <td>0</td>\n",
       "      <td>0</td>\n",
       "      <td>No</td>\n",
       "    </tr>\n",
       "  </tbody>\n",
       "</table>\n",
       "</div>"
      ],
      "text/plain": [
       "  gender  age      neighbourhood  scholarship  hipertension  diabetes  \\\n",
       "0      F   62    JARDIM DA PENHA            0             1         0   \n",
       "1      M   56    JARDIM DA PENHA            0             0         0   \n",
       "2      F   62      MATA DA PRAIA            0             0         0   \n",
       "3      F    8  PONTAL DE CAMBURI            0             0         0   \n",
       "4      F   56    JARDIM DA PENHA            0             1         1   \n",
       "\n",
       "   alcoholism  handicap  sms_received no_show  \n",
       "0           0         0             0      No  \n",
       "1           0         0             0      No  \n",
       "2           0         0             0      No  \n",
       "3           0         0             0      No  \n",
       "4           0         0             0      No  "
      ]
     },
     "execution_count": 14,
     "metadata": {},
     "output_type": "execute_result"
    }
   ],
   "source": [
    "# display the dataframe after dropping\n",
    "df.head()"
   ]
  },
  {
   "cell_type": "markdown",
   "id": "ef2cfd8f",
   "metadata": {},
   "source": [
    "ok , the columns ['patientid','appointmentid','appointmentday','scheduledday'] had already droped"
   ]
  },
  {
   "cell_type": "code",
   "execution_count": 15,
   "id": "1737f33e",
   "metadata": {},
   "outputs": [
    {
     "name": "stdout",
     "output_type": "stream",
     "text": [
      "<class 'pandas.core.frame.DataFrame'>\n",
      "Int64Index: 110526 entries, 0 to 110526\n",
      "Data columns (total 10 columns):\n",
      " #   Column         Non-Null Count   Dtype \n",
      "---  ------         --------------   ----- \n",
      " 0   gender         110526 non-null  object\n",
      " 1   age            110526 non-null  int64 \n",
      " 2   neighbourhood  110526 non-null  object\n",
      " 3   scholarship    110526 non-null  int64 \n",
      " 4   hipertension   110526 non-null  int64 \n",
      " 5   diabetes       110526 non-null  int64 \n",
      " 6   alcoholism     110526 non-null  int64 \n",
      " 7   handicap       110526 non-null  int64 \n",
      " 8   sms_received   110526 non-null  int64 \n",
      " 9   no_show        110526 non-null  object\n",
      "dtypes: int64(7), object(3)\n",
      "memory usage: 9.3+ MB\n"
     ]
    }
   ],
   "source": [
    "# show the dataframe after cleaning\n",
    "df.info()"
   ]
  },
  {
   "cell_type": "markdown",
   "id": "c8a92c74",
   "metadata": {},
   "source": [
    "The data is really clean now and there is no null or duplicated values and columns type were fixed \n",
    "\n",
    "ok,you can continue now"
   ]
  },
  {
   "cell_type": "markdown",
   "id": "f835abe9",
   "metadata": {},
   "source": [
    "\n",
    "\n",
    "### for make the analysis easiear we will creat two dataframes to patiens who attend and patiens did not\n",
    "\n"
   ]
  },
  {
   "cell_type": "code",
   "execution_count": 16,
   "id": "28705943",
   "metadata": {},
   "outputs": [],
   "source": [
    "# creat a dataframe to patients attended\n",
    "df_no = df.query('no_show == \"No\"')"
   ]
  },
  {
   "cell_type": "code",
   "execution_count": 17,
   "id": "55d1c519",
   "metadata": {},
   "outputs": [
    {
     "data": {
      "text/html": [
       "<div>\n",
       "<style scoped>\n",
       "    .dataframe tbody tr th:only-of-type {\n",
       "        vertical-align: middle;\n",
       "    }\n",
       "\n",
       "    .dataframe tbody tr th {\n",
       "        vertical-align: top;\n",
       "    }\n",
       "\n",
       "    .dataframe thead th {\n",
       "        text-align: right;\n",
       "    }\n",
       "</style>\n",
       "<table border=\"1\" class=\"dataframe\">\n",
       "  <thead>\n",
       "    <tr style=\"text-align: right;\">\n",
       "      <th></th>\n",
       "      <th>gender</th>\n",
       "      <th>age</th>\n",
       "      <th>neighbourhood</th>\n",
       "      <th>scholarship</th>\n",
       "      <th>hipertension</th>\n",
       "      <th>diabetes</th>\n",
       "      <th>alcoholism</th>\n",
       "      <th>handicap</th>\n",
       "      <th>sms_received</th>\n",
       "      <th>no_show</th>\n",
       "    </tr>\n",
       "  </thead>\n",
       "  <tbody>\n",
       "    <tr>\n",
       "      <th>0</th>\n",
       "      <td>F</td>\n",
       "      <td>62</td>\n",
       "      <td>JARDIM DA PENHA</td>\n",
       "      <td>0</td>\n",
       "      <td>1</td>\n",
       "      <td>0</td>\n",
       "      <td>0</td>\n",
       "      <td>0</td>\n",
       "      <td>0</td>\n",
       "      <td>No</td>\n",
       "    </tr>\n",
       "    <tr>\n",
       "      <th>1</th>\n",
       "      <td>M</td>\n",
       "      <td>56</td>\n",
       "      <td>JARDIM DA PENHA</td>\n",
       "      <td>0</td>\n",
       "      <td>0</td>\n",
       "      <td>0</td>\n",
       "      <td>0</td>\n",
       "      <td>0</td>\n",
       "      <td>0</td>\n",
       "      <td>No</td>\n",
       "    </tr>\n",
       "    <tr>\n",
       "      <th>2</th>\n",
       "      <td>F</td>\n",
       "      <td>62</td>\n",
       "      <td>MATA DA PRAIA</td>\n",
       "      <td>0</td>\n",
       "      <td>0</td>\n",
       "      <td>0</td>\n",
       "      <td>0</td>\n",
       "      <td>0</td>\n",
       "      <td>0</td>\n",
       "      <td>No</td>\n",
       "    </tr>\n",
       "    <tr>\n",
       "      <th>3</th>\n",
       "      <td>F</td>\n",
       "      <td>8</td>\n",
       "      <td>PONTAL DE CAMBURI</td>\n",
       "      <td>0</td>\n",
       "      <td>0</td>\n",
       "      <td>0</td>\n",
       "      <td>0</td>\n",
       "      <td>0</td>\n",
       "      <td>0</td>\n",
       "      <td>No</td>\n",
       "    </tr>\n",
       "    <tr>\n",
       "      <th>4</th>\n",
       "      <td>F</td>\n",
       "      <td>56</td>\n",
       "      <td>JARDIM DA PENHA</td>\n",
       "      <td>0</td>\n",
       "      <td>1</td>\n",
       "      <td>1</td>\n",
       "      <td>0</td>\n",
       "      <td>0</td>\n",
       "      <td>0</td>\n",
       "      <td>No</td>\n",
       "    </tr>\n",
       "  </tbody>\n",
       "</table>\n",
       "</div>"
      ],
      "text/plain": [
       "  gender  age      neighbourhood  scholarship  hipertension  diabetes  \\\n",
       "0      F   62    JARDIM DA PENHA            0             1         0   \n",
       "1      M   56    JARDIM DA PENHA            0             0         0   \n",
       "2      F   62      MATA DA PRAIA            0             0         0   \n",
       "3      F    8  PONTAL DE CAMBURI            0             0         0   \n",
       "4      F   56    JARDIM DA PENHA            0             1         1   \n",
       "\n",
       "   alcoholism  handicap  sms_received no_show  \n",
       "0           0         0             0      No  \n",
       "1           0         0             0      No  \n",
       "2           0         0             0      No  \n",
       "3           0         0             0      No  \n",
       "4           0         0             0      No  "
      ]
     },
     "execution_count": 17,
     "metadata": {},
     "output_type": "execute_result"
    }
   ],
   "source": [
    "# display some rows \n",
    "df_no.head()"
   ]
  },
  {
   "cell_type": "markdown",
   "id": "48a2bd0d",
   "metadata": {},
   "source": [
    "Then, we creat a dataframe df_no to patients attended"
   ]
  },
  {
   "cell_type": "code",
   "execution_count": 18,
   "id": "1abf8695",
   "metadata": {},
   "outputs": [],
   "source": [
    "# creat a dataframe to patients not attended\n",
    "df_yes = df.query('no_show == \"Yes\"')"
   ]
  },
  {
   "cell_type": "code",
   "execution_count": 19,
   "id": "9867189b",
   "metadata": {},
   "outputs": [
    {
     "data": {
      "text/html": [
       "<div>\n",
       "<style scoped>\n",
       "    .dataframe tbody tr th:only-of-type {\n",
       "        vertical-align: middle;\n",
       "    }\n",
       "\n",
       "    .dataframe tbody tr th {\n",
       "        vertical-align: top;\n",
       "    }\n",
       "\n",
       "    .dataframe thead th {\n",
       "        text-align: right;\n",
       "    }\n",
       "</style>\n",
       "<table border=\"1\" class=\"dataframe\">\n",
       "  <thead>\n",
       "    <tr style=\"text-align: right;\">\n",
       "      <th></th>\n",
       "      <th>gender</th>\n",
       "      <th>age</th>\n",
       "      <th>neighbourhood</th>\n",
       "      <th>scholarship</th>\n",
       "      <th>hipertension</th>\n",
       "      <th>diabetes</th>\n",
       "      <th>alcoholism</th>\n",
       "      <th>handicap</th>\n",
       "      <th>sms_received</th>\n",
       "      <th>no_show</th>\n",
       "    </tr>\n",
       "  </thead>\n",
       "  <tbody>\n",
       "    <tr>\n",
       "      <th>6</th>\n",
       "      <td>F</td>\n",
       "      <td>23</td>\n",
       "      <td>GOIABEIRAS</td>\n",
       "      <td>0</td>\n",
       "      <td>0</td>\n",
       "      <td>0</td>\n",
       "      <td>0</td>\n",
       "      <td>0</td>\n",
       "      <td>0</td>\n",
       "      <td>Yes</td>\n",
       "    </tr>\n",
       "    <tr>\n",
       "      <th>7</th>\n",
       "      <td>F</td>\n",
       "      <td>39</td>\n",
       "      <td>GOIABEIRAS</td>\n",
       "      <td>0</td>\n",
       "      <td>0</td>\n",
       "      <td>0</td>\n",
       "      <td>0</td>\n",
       "      <td>0</td>\n",
       "      <td>0</td>\n",
       "      <td>Yes</td>\n",
       "    </tr>\n",
       "    <tr>\n",
       "      <th>11</th>\n",
       "      <td>M</td>\n",
       "      <td>29</td>\n",
       "      <td>NOVA PALESTINA</td>\n",
       "      <td>0</td>\n",
       "      <td>0</td>\n",
       "      <td>0</td>\n",
       "      <td>0</td>\n",
       "      <td>0</td>\n",
       "      <td>1</td>\n",
       "      <td>Yes</td>\n",
       "    </tr>\n",
       "    <tr>\n",
       "      <th>17</th>\n",
       "      <td>F</td>\n",
       "      <td>40</td>\n",
       "      <td>CONQUISTA</td>\n",
       "      <td>1</td>\n",
       "      <td>0</td>\n",
       "      <td>0</td>\n",
       "      <td>0</td>\n",
       "      <td>0</td>\n",
       "      <td>0</td>\n",
       "      <td>Yes</td>\n",
       "    </tr>\n",
       "    <tr>\n",
       "      <th>20</th>\n",
       "      <td>F</td>\n",
       "      <td>30</td>\n",
       "      <td>NOVA PALESTINA</td>\n",
       "      <td>0</td>\n",
       "      <td>0</td>\n",
       "      <td>0</td>\n",
       "      <td>0</td>\n",
       "      <td>0</td>\n",
       "      <td>0</td>\n",
       "      <td>Yes</td>\n",
       "    </tr>\n",
       "  </tbody>\n",
       "</table>\n",
       "</div>"
      ],
      "text/plain": [
       "   gender  age   neighbourhood  scholarship  hipertension  diabetes  \\\n",
       "6       F   23      GOIABEIRAS            0             0         0   \n",
       "7       F   39      GOIABEIRAS            0             0         0   \n",
       "11      M   29  NOVA PALESTINA            0             0         0   \n",
       "17      F   40       CONQUISTA            1             0         0   \n",
       "20      F   30  NOVA PALESTINA            0             0         0   \n",
       "\n",
       "    alcoholism  handicap  sms_received no_show  \n",
       "6            0         0             0     Yes  \n",
       "7            0         0             0     Yes  \n",
       "11           0         0             1     Yes  \n",
       "17           0         0             0     Yes  \n",
       "20           0         0             0     Yes  "
      ]
     },
     "execution_count": 19,
     "metadata": {},
     "output_type": "execute_result"
    }
   ],
   "source": [
    "df_yes.head()"
   ]
  },
  {
   "cell_type": "markdown",
   "id": "fb2b1685",
   "metadata": {},
   "source": [
    "  Then, we creat a dataframe df_yes to patients not attended"
   ]
  },
  {
   "cell_type": "markdown",
   "id": "56a704a9",
   "metadata": {},
   "source": [
    "<a id='eda'></a>\n",
    "\n",
    "\n",
    "## Exploratory Data Analysis\n",
    "\n"
   ]
  },
  {
   "cell_type": "code",
   "execution_count": 20,
   "id": "80bf12ec",
   "metadata": {
    "scrolled": true
   },
   "outputs": [
    {
     "data": {
      "text/plain": [
       "array([[<AxesSubplot:title={'center':'age'}>,\n",
       "        <AxesSubplot:title={'center':'scholarship'}>,\n",
       "        <AxesSubplot:title={'center':'hipertension'}>],\n",
       "       [<AxesSubplot:title={'center':'diabetes'}>,\n",
       "        <AxesSubplot:title={'center':'alcoholism'}>,\n",
       "        <AxesSubplot:title={'center':'handicap'}>],\n",
       "       [<AxesSubplot:title={'center':'sms_received'}>, <AxesSubplot:>,\n",
       "        <AxesSubplot:>]], dtype=object)"
      ]
     },
     "execution_count": 20,
     "metadata": {},
     "output_type": "execute_result"
    },
    {
     "data": {
      "image/png": "[encoded data removed]",
      "text/plain": [
       "<Figure size 1080x1080 with 9 Axes>"
      ]
     },
     "metadata": {
      "needs_background": "light"
     },
     "output_type": "display_data"
    }
   ],
   "source": [
    "# by histogram of columns in this data set , show the distribution of it\n",
    "df.hist(figsize = (15,15))"
   ]
  },
  {
   "cell_type": "markdown",
   "id": "27879b20",
   "metadata": {},
   "source": [
    "All this variables are right sekwed "
   ]
  },
  {
   "cell_type": "code",
   "execution_count": 21,
   "id": "07efad9b",
   "metadata": {},
   "outputs": [
    {
     "data": {
      "text/plain": [
       "No     88207\n",
       "Yes    22319\n",
       "Name: no_show, dtype: int64"
      ]
     },
     "execution_count": 21,
     "metadata": {},
     "output_type": "execute_result"
    }
   ],
   "source": [
    "# get the count of pateitns attended and patients not\n",
    "df['no_show'].value_counts()"
   ]
  },
  {
   "cell_type": "markdown",
   "id": "0b8b7655",
   "metadata": {},
   "source": [
    "That mean 88207 patient attended and 22319 patient not attended"
   ]
  },
  {
   "cell_type": "code",
   "execution_count": 22,
   "id": "040ce355",
   "metadata": {},
   "outputs": [
    {
     "data": {
      "text/plain": [
       "<AxesSubplot:title={'center':'count of pateitns attended and patients not'}>"
      ]
     },
     "execution_count": 22,
     "metadata": {},
     "output_type": "execute_result"
    },
    {
     "data": {
      "image/png": "[encoded data removed]",
      "text/plain": [
       "<Figure size 432x288 with 1 Axes>"
      ]
     },
     "metadata": {
      "needs_background": "light"
     },
     "output_type": "display_data"
    }
   ],
   "source": [
    "# visualize the counts\n",
    "df['no_show'].value_counts().plot(kind = 'bar', color = ['red','blue'],title = 'count of pateitns attended and patients not')"
   ]
  },
  {
   "cell_type": "markdown",
   "id": "a3d17cd1",
   "metadata": {},
   "source": [
    "### Research Question 1 (  How gender affect on the show up of patient  )"
   ]
  },
  {
   "cell_type": "code",
   "execution_count": 23,
   "id": "551d3894",
   "metadata": {},
   "outputs": [
    {
     "data": {
      "text/plain": [
       "F    71839\n",
       "M    38687\n",
       "Name: gender, dtype: int64"
      ]
     },
     "execution_count": 23,
     "metadata": {},
     "output_type": "execute_result"
    }
   ],
   "source": [
    "# count of male and female\n",
    "df['gender'].value_counts()"
   ]
  },
  {
   "cell_type": "markdown",
   "id": "226278ee",
   "metadata": {},
   "source": [
    "there are 71839 female and 38687 male"
   ]
  },
  {
   "cell_type": "code",
   "execution_count": 24,
   "id": "188b5e4a",
   "metadata": {},
   "outputs": [
    {
     "data": {
      "text/plain": [
       "F    57245\n",
       "M    30962\n",
       "Name: gender, dtype: int64"
      ]
     },
     "execution_count": 24,
     "metadata": {},
     "output_type": "execute_result"
    }
   ],
   "source": [
    "# count of male and female who attend\n",
    "df_no['gender'].value_counts()"
   ]
  },
  {
   "cell_type": "markdown",
   "id": "c919d1fe",
   "metadata": {},
   "source": [
    "there are 30962 male and 57245 female who attend"
   ]
  },
  {
   "cell_type": "code",
   "execution_count": 25,
   "id": "76cefc19",
   "metadata": {},
   "outputs": [
    {
     "data": {
      "text/plain": [
       "<AxesSubplot:title={'center':'count of males and females attended '}>"
      ]
     },
     "execution_count": 25,
     "metadata": {},
     "output_type": "execute_result"
    },
    {
     "data": {
      "image/png": "[encoded data removed]",
      "text/plain": [
       "<Figure size 432x288 with 1 Axes>"
      ]
     },
     "metadata": {
      "needs_background": "light"
     },
     "output_type": "display_data"
    }
   ],
   "source": [
    "# visualize the counts\n",
    "df_no['gender'].value_counts().plot(kind ='bar',color = ['red','blue'],title = 'count of males and females attended ')"
   ]
  },
  {
   "cell_type": "code",
   "execution_count": 26,
   "id": "aa59c507",
   "metadata": {},
   "outputs": [
    {
     "data": {
      "text/plain": [
       "F    14594\n",
       "M     7725\n",
       "Name: gender, dtype: int64"
      ]
     },
     "execution_count": 26,
     "metadata": {},
     "output_type": "execute_result"
    }
   ],
   "source": [
    "# count of male and female who not attend\n",
    "df_yes['gender'].value_counts()"
   ]
  },
  {
   "cell_type": "markdown",
   "id": "c21613d8",
   "metadata": {},
   "source": [
    "there are 7725 male and 14594 female who not attend"
   ]
  },
  {
   "cell_type": "code",
   "execution_count": 27,
   "id": "ba4a51d2",
   "metadata": {},
   "outputs": [
    {
     "data": {
      "text/plain": [
       "<AxesSubplot:title={'center':'count of males and females not attended '}>"
      ]
     },
     "execution_count": 27,
     "metadata": {},
     "output_type": "execute_result"
    },
    {
     "data": {
      "image/png": "[encoded data removed]",
      "text/plain": [
       "<Figure size 432x288 with 1 Axes>"
      ]
     },
     "metadata": {
      "needs_background": "light"
     },
     "output_type": "display_data"
    }
   ],
   "source": [
    "# visualize the counts\n",
    "df_yes['gender'].value_counts().plot(kind ='bar',color = ['red','blue'],title = 'count of males and females not attended ')"
   ]
  },
  {
   "cell_type": "code",
   "execution_count": 28,
   "id": "b450ab5b",
   "metadata": {},
   "outputs": [
    {
     "data": {
      "image/png": "[encoded data removed]",
      "text/plain": [
       "<Figure size 432x288 with 1 Axes>"
      ]
     },
     "metadata": {
      "needs_background": "light"
     },
     "output_type": "display_data"
    }
   ],
   "source": [
    "# now we display the realation between gender and show up of patients\n",
    "df_no['gender'].hist( alpha = .5 , label='attend', color = ['red'])\n",
    "df_yes['gender'].hist( alpha = .5 , label='not_attend' , color = ['black'])\n",
    "plt.title('realation between gender and show up of patients')\n",
    "plt.xlabel('gender')\n",
    "plt.ylabel('counts')\n",
    "plt.legend();"
   ]
  },
  {
   "cell_type": "markdown",
   "id": "9b25d9ab",
   "metadata": {},
   "source": [
    "As we see there are about 79.6% of 71840 females had attended and about 80% of 38687 males had attended\n",
    "and 20% of 71840 females had not attended and about 19% of 38687 males had not attended\n",
    "\n",
    "so based on that the two percentages are nearly the same :(the gender don`t affect on show up of patients)\n"
   ]
  },
  {
   "cell_type": "markdown",
   "id": "232a676d",
   "metadata": {},
   "source": [
    "### Research Question 2  (  How age affect on the show up of patient  )"
   ]
  },
  {
   "cell_type": "code",
   "execution_count": 29,
   "id": "e8a7553c",
   "metadata": {},
   "outputs": [
    {
     "data": {
      "text/plain": [
       "37.790504154999034"
      ]
     },
     "execution_count": 29,
     "metadata": {},
     "output_type": "execute_result"
    }
   ],
   "source": [
    "# find the mean of  age of pateints attended\n",
    "df_no['age'].mean()"
   ]
  },
  {
   "cell_type": "code",
   "execution_count": 30,
   "id": "ca36ad09",
   "metadata": {},
   "outputs": [
    {
     "data": {
      "text/plain": [
       "34.31766656212196"
      ]
     },
     "execution_count": 30,
     "metadata": {},
     "output_type": "execute_result"
    }
   ],
   "source": [
    "# find the mean of  age of pateints not attended\n",
    "df_yes['age'].mean()"
   ]
  },
  {
   "cell_type": "code",
   "execution_count": 31,
   "id": "412ec34c",
   "metadata": {},
   "outputs": [
    {
     "data": {
      "image/png": "[encoded data removed]",
      "text/plain": [
       "<Figure size 432x288 with 1 Axes>"
      ]
     },
     "metadata": {
      "needs_background": "light"
     },
     "output_type": "display_data"
    }
   ],
   "source": [
    "# now we display the realation between age and show up of patients\n",
    "df_no['age'].hist( alpha = .5 , label='attend', color = ['red'])\n",
    "df_yes['age'].hist( alpha = .5 , label='not_attend' , color = ['black'])\n",
    "plt.title('realation between age and show up of patients')\n",
    "plt.xlabel('age_classes')\n",
    "plt.ylabel('counts')\n",
    "plt.legend();\n"
   ]
  },
  {
   "cell_type": "markdown",
   "id": "c54645cd",
   "metadata": {},
   "source": [
    "As we see in the figure  the classes of ages are different in patient attended and patient not and the class [0:10] had the maximum count of attendance and class[100:115] had the minimum count of attendance \n",
    "so we get that ( age is strongly affect on patient attendance )\n"
   ]
  },
  {
   "cell_type": "markdown",
   "id": "3aa70c62",
   "metadata": {},
   "source": [
    "### Research Question 3  (  How neighbourhood affect on the show up of patient   )"
   ]
  },
  {
   "cell_type": "code",
   "execution_count": 32,
   "id": "7c285137",
   "metadata": {},
   "outputs": [
    {
     "data": {
      "image/png": "[encoded data removed]",
      "text/plain": [
       "<Figure size 1440x576 with 1 Axes>"
      ]
     },
     "metadata": {
      "needs_background": "light"
     },
     "output_type": "display_data"
    }
   ],
   "source": [
    "# show the realation between neighbourhood and show up of patients\n",
    "plt.figure(figsize = (20,8))\n",
    "df_no['neighbourhood'].value_counts().plot(kind='bar' ,alpha =.5,color=['red'],label = 'attend' )\n",
    "df_yes['neighbourhood'].value_counts().plot(kind='bar',alpha =.5,color=['black'],label = 'not_attend')\n",
    "plt.title('realation between neighbourhood and attendance of patients')\n",
    "plt.xlabel('neighbourhoods')\n",
    "plt.ylabel('counts')\n",
    "plt.legend();\n"
   ]
  },
  {
   "cell_type": "markdown",
   "id": "277cddbc",
   "metadata": {},
   "source": [
    "As we see in the figure from the precentiles that the JARDIM CAMBURI had the greatest count of show up \n",
    "so we get that ( neighbourhood stongly effect on patients attendance )"
   ]
  },
  {
   "cell_type": "markdown",
   "id": "d9832519",
   "metadata": {},
   "source": [
    "### Research Question 4  (  How scholarship affect on the show up of patient  )"
   ]
  },
  {
   "cell_type": "code",
   "execution_count": 33,
   "id": "58538002",
   "metadata": {},
   "outputs": [
    {
     "data": {
      "text/plain": [
       "0    99665\n",
       "1    10861\n",
       "Name: scholarship, dtype: int64"
      ]
     },
     "execution_count": 33,
     "metadata": {},
     "output_type": "execute_result"
    }
   ],
   "source": [
    "# count of haveing a scholarship\n",
    "df['scholarship'].value_counts()"
   ]
  },
  {
   "cell_type": "markdown",
   "id": "57b00f83",
   "metadata": {},
   "source": [
    "that mean 10861 of patients had a scholarship and 99665 had not"
   ]
  },
  {
   "cell_type": "code",
   "execution_count": 34,
   "id": "7bc3f58d",
   "metadata": {},
   "outputs": [
    {
     "data": {
      "text/plain": [
       "0    79924\n",
       "1     8283\n",
       "Name: scholarship, dtype: int64"
      ]
     },
     "execution_count": 34,
     "metadata": {},
     "output_type": "execute_result"
    }
   ],
   "source": [
    "# count of haveing a scholarship for pateints attended\n",
    "df_no['scholarship'].value_counts()"
   ]
  },
  {
   "cell_type": "markdown",
   "id": "b06e1007",
   "metadata": {},
   "source": [
    "that mean 8283 of patient atteded had a scholarship and 79925 had not"
   ]
  },
  {
   "cell_type": "code",
   "execution_count": 35,
   "id": "73b7b336",
   "metadata": {},
   "outputs": [
    {
     "data": {
      "text/plain": [
       "0    19741\n",
       "1     2578\n",
       "Name: scholarship, dtype: int64"
      ]
     },
     "execution_count": 35,
     "metadata": {},
     "output_type": "execute_result"
    }
   ],
   "source": [
    "# count of haveing a scholarship and pateints not attended\n",
    "df_yes['scholarship'].value_counts()"
   ]
  },
  {
   "cell_type": "markdown",
   "id": "f9d378e2",
   "metadata": {},
   "source": [
    "that mean 2578 of patient not atteded had a scholarship and 19741 had not"
   ]
  },
  {
   "cell_type": "code",
   "execution_count": 36,
   "id": "caabdef2",
   "metadata": {},
   "outputs": [
    {
     "data": {
      "image/png": "[encoded data removed]",
      "text/plain": [
       "<Figure size 432x288 with 1 Axes>"
      ]
     },
     "metadata": {
      "needs_background": "light"
     },
     "output_type": "display_data"
    }
   ],
   "source": [
    "# now we display the realation between scholarship and show up of patients\n",
    "df_no['scholarship'].value_counts().plot(kind='bar' ,alpha =.5,color=['red'],label = 'attend' )\n",
    "df_yes['scholarship'].value_counts().plot(kind='bar' ,alpha =.5,color=['black'],label = 'not_attend' )\n",
    "plt.title('realation between having scholarship and attendance of patients which o to no and 1 to yes')\n",
    "plt.xlabel('scholarship')\n",
    "plt.ylabel('counts')\n",
    "plt.legend();\n"
   ]
  },
  {
   "cell_type": "markdown",
   "id": "466abda6",
   "metadata": {},
   "source": [
    "As we see there are about 80% of 99666 pateints not have scholarship had attended and about 76% of 10861 pateints have scholarship had attended\n",
    "and 20% of 99666  pateints not have scholarship had not attended and about 24% of 10861 pateints have scholarship had not attended\n",
    "\n",
    "so based on that the percentages :( the scholarship affect on show up of patients )\n"
   ]
  },
  {
   "cell_type": "markdown",
   "id": "e2bbe2d9",
   "metadata": {},
   "source": [
    "### Research Question 5  (  How hipertension  affect on the show up of patient  )"
   ]
  },
  {
   "cell_type": "code",
   "execution_count": 37,
   "id": "d79dc4e6",
   "metadata": {},
   "outputs": [
    {
     "data": {
      "text/plain": [
       "0    88725\n",
       "1    21801\n",
       "Name: hipertension, dtype: int64"
      ]
     },
     "execution_count": 37,
     "metadata": {},
     "output_type": "execute_result"
    }
   ],
   "source": [
    "# count of haveing a hipertension\n",
    "df['hipertension'].value_counts()"
   ]
  },
  {
   "cell_type": "markdown",
   "id": "a5ec437c",
   "metadata": {},
   "source": [
    "that mean 21801 of patients had a hipertension and 88725 had not"
   ]
  },
  {
   "cell_type": "code",
   "execution_count": 38,
   "id": "32fd4434",
   "metadata": {},
   "outputs": [
    {
     "data": {
      "text/plain": [
       "0    70178\n",
       "1    18029\n",
       "Name: hipertension, dtype: int64"
      ]
     },
     "execution_count": 38,
     "metadata": {},
     "output_type": "execute_result"
    }
   ],
   "source": [
    "# count of haveing a hipertension for pateints attended\n",
    "df_no['hipertension'].value_counts()"
   ]
  },
  {
   "cell_type": "markdown",
   "id": "77fe83e5",
   "metadata": {},
   "source": [
    "that mean 18029 of patient atteded had a hipertension and 70178 had not"
   ]
  },
  {
   "cell_type": "code",
   "execution_count": 39,
   "id": "9ab08bce",
   "metadata": {},
   "outputs": [
    {
     "data": {
      "text/plain": [
       "0    18547\n",
       "1     3772\n",
       "Name: hipertension, dtype: int64"
      ]
     },
     "execution_count": 39,
     "metadata": {},
     "output_type": "execute_result"
    }
   ],
   "source": [
    "# count of haveing a hipertension for pateints not attended\n",
    "df_yes['hipertension'].value_counts()"
   ]
  },
  {
   "cell_type": "markdown",
   "id": "e976d1d8",
   "metadata": {},
   "source": [
    "that mean 3772 of patient not atteded had a hipertension and 18547 had not"
   ]
  },
  {
   "cell_type": "code",
   "execution_count": 40,
   "id": "2bcbbfc1",
   "metadata": {},
   "outputs": [
    {
     "data": {
      "image/png": "[encoded data removed]",
      "text/plain": [
       "<Figure size 432x288 with 1 Axes>"
      ]
     },
     "metadata": {
      "needs_background": "light"
     },
     "output_type": "display_data"
    }
   ],
   "source": [
    "#now we display the realation between hipertension and show up of patients\n",
    "df_no['hipertension'].value_counts().plot(kind='bar' ,alpha =.5,color=['red'],label = 'attend' )\n",
    "df_yes['hipertension'].value_counts().plot(kind='bar' ,alpha =.5,color=['black'],label = 'not_attend' )\n",
    "plt.title('realation between having hipertension and attendance of patients which o to no and 1 to yes')\n",
    "plt.xlabel('hipertension')\n",
    "plt.ylabel('counts')\n",
    "plt.legend();\n"
   ]
  },
  {
   "cell_type": "markdown",
   "id": "1c9d405f",
   "metadata": {},
   "source": [
    "As we see there are about 79% of 88726 pateints not have hipertension had attended and about 83% of 21801 pateints have hipertension had attended\n",
    "and 21% of 88726  pateints not have hipertension had not attended and about 17% of 21801 pateints have hipertension had not attended\n",
    "\n",
    "so based on that the percentages :( the hipertension not affect on show up of patients )\n"
   ]
  },
  {
   "cell_type": "markdown",
   "id": "aa67764f",
   "metadata": {},
   "source": [
    "### Research Question 6  (  How diabetes affect on the show up of patient  )"
   ]
  },
  {
   "cell_type": "code",
   "execution_count": 41,
   "id": "e239657d",
   "metadata": {},
   "outputs": [
    {
     "data": {
      "text/plain": [
       "0    102583\n",
       "1      7943\n",
       "Name: diabetes, dtype: int64"
      ]
     },
     "execution_count": 41,
     "metadata": {},
     "output_type": "execute_result"
    }
   ],
   "source": [
    "# count of haveing a diabetes\n",
    "df['diabetes'].value_counts()"
   ]
  },
  {
   "cell_type": "markdown",
   "id": "e7e7106f",
   "metadata": {},
   "source": [
    "that mean 7943 of patients had a diabetes and 102583 had not"
   ]
  },
  {
   "cell_type": "code",
   "execution_count": 42,
   "id": "fd445cd9",
   "metadata": {},
   "outputs": [
    {
     "data": {
      "text/plain": [
       "0    81694\n",
       "1     6513\n",
       "Name: diabetes, dtype: int64"
      ]
     },
     "execution_count": 42,
     "metadata": {},
     "output_type": "execute_result"
    }
   ],
   "source": [
    "# count of haveing a diabetes and not for pateints attended\n",
    "df_no['diabetes'].value_counts()"
   ]
  },
  {
   "cell_type": "markdown",
   "id": "ab5b0be7",
   "metadata": {},
   "source": [
    "that mean 6513 of patients atteded had a diabetes and 81694 had not"
   ]
  },
  {
   "cell_type": "code",
   "execution_count": 43,
   "id": "a57b7710",
   "metadata": {},
   "outputs": [
    {
     "data": {
      "text/plain": [
       "0    20889\n",
       "1     1430\n",
       "Name: diabetes, dtype: int64"
      ]
     },
     "execution_count": 43,
     "metadata": {},
     "output_type": "execute_result"
    }
   ],
   "source": [
    "# count of haveing a diabetes and not for pateints not attended\n",
    "df_yes['diabetes'].value_counts()"
   ]
  },
  {
   "cell_type": "markdown",
   "id": "c44fee46",
   "metadata": {},
   "source": [
    "that mean 1430 of patients not atteded had a diabetes and 20889 had not"
   ]
  },
  {
   "cell_type": "code",
   "execution_count": 44,
   "id": "9ac50526",
   "metadata": {},
   "outputs": [
    {
     "data": {
      "image/png": "[encoded data removed]",
      "text/plain": [
       "<Figure size 432x288 with 1 Axes>"
      ]
     },
     "metadata": {
      "needs_background": "light"
     },
     "output_type": "display_data"
    }
   ],
   "source": [
    "#now we display the realation between diabetes and show up of patients\n",
    "df_no['diabetes'].value_counts().plot(kind='bar' ,alpha =.5,color=['red'],label = 'attend' )\n",
    "df_yes['diabetes'].value_counts().plot(kind='bar' ,alpha =.5,color=['black'],label = 'not_attend')\n",
    "plt.title('realation between having diabetes and show up of patients which o to no and 1 to yes')\n",
    "plt.xlabel('diabetes')\n",
    "plt.ylabel('counts')\n",
    "plt.legend();\n"
   ]
  },
  {
   "cell_type": "markdown",
   "id": "85aa3527",
   "metadata": {},
   "source": [
    "As we see there are about 80% of 102584 pateints not have diabetes had attended and about 82% of 7943 pateints have diabetes had attended\n",
    "and 20% of 102584  pateints not have diabetes had not attended and about 18% of 7943 pateints have diabetes had not attended\n",
    "\n",
    "so based on that the percentages :( the diabetes not affect on show up of patients )\n"
   ]
  },
  {
   "cell_type": "markdown",
   "id": "53d954bb",
   "metadata": {},
   "source": [
    "### Research Question 7  (  How alcoholism affect on the show up of patient  )"
   ]
  },
  {
   "cell_type": "code",
   "execution_count": 45,
   "id": "7972a522",
   "metadata": {},
   "outputs": [
    {
     "data": {
      "text/plain": [
       "0    107166\n",
       "1      3360\n",
       "Name: alcoholism, dtype: int64"
      ]
     },
     "execution_count": 45,
     "metadata": {},
     "output_type": "execute_result"
    }
   ],
   "source": [
    "# count of haveing a alcoholism \n",
    "df['alcoholism'].value_counts()"
   ]
  },
  {
   "cell_type": "markdown",
   "id": "27c4a296",
   "metadata": {},
   "source": [
    "that mean 3360 of patients had  alcoholism and 107166 had not"
   ]
  },
  {
   "cell_type": "code",
   "execution_count": 46,
   "id": "bf8782d0",
   "metadata": {},
   "outputs": [
    {
     "data": {
      "text/plain": [
       "0    85524\n",
       "1     2683\n",
       "Name: alcoholism, dtype: int64"
      ]
     },
     "execution_count": 46,
     "metadata": {},
     "output_type": "execute_result"
    }
   ],
   "source": [
    "# count of haveing a alcoholism for pateints  attended\n",
    "df_no['alcoholism'].value_counts()"
   ]
  },
  {
   "cell_type": "markdown",
   "id": "f94fb01a",
   "metadata": {},
   "source": [
    "that mean 2683 of patients atteded had  alcoholism and 85524 had not"
   ]
  },
  {
   "cell_type": "code",
   "execution_count": 47,
   "id": "fb2ec820",
   "metadata": {},
   "outputs": [
    {
     "data": {
      "text/plain": [
       "0    21642\n",
       "1      677\n",
       "Name: alcoholism, dtype: int64"
      ]
     },
     "execution_count": 47,
     "metadata": {},
     "output_type": "execute_result"
    }
   ],
   "source": [
    "# count of haveing a alcoholism for pateints not attended\n",
    "df_yes['alcoholism'].value_counts()"
   ]
  },
  {
   "cell_type": "markdown",
   "id": "43349347",
   "metadata": {},
   "source": [
    "that mean 677 of patient not atteded had  alcoholismn and 21642 had not"
   ]
  },
  {
   "cell_type": "code",
   "execution_count": 48,
   "id": "924437bb",
   "metadata": {},
   "outputs": [
    {
     "data": {
      "image/png": "[encoded data removed]",
      "text/plain": [
       "<Figure size 432x288 with 1 Axes>"
      ]
     },
     "metadata": {
      "needs_background": "light"
     },
     "output_type": "display_data"
    }
   ],
   "source": [
    "#now we display the realation between alcoholism and show up of patients\n",
    "df_no['alcoholism'].value_counts().plot(kind='bar' ,alpha =.5,color=['red'],label = 'attend' )\n",
    "df_yes['alcoholism'].value_counts().plot(kind='bar' ,alpha =.5,color=['black'],label = 'not_attend')\n",
    "plt.title('realation between having alcoholism and show up of patients which o to no and 1 to yes')\n",
    "plt.xlabel('alcoholism')\n",
    "plt.ylabel('counts')\n",
    "plt.legend();\n"
   ]
  },
  {
   "cell_type": "markdown",
   "id": "0aa07802",
   "metadata": {},
   "source": [
    "As we see there are about 80% of 107167 pateints not have alcoholism had attended and about 80% of 3360 pateints have alcoholism had attended\n",
    "and 20% of 107167  pateints not have alcoholism had not attended and about 20% of 3360 pateints have alcoholism had not attended\n",
    "\n",
    "so based on that the percentages :( the alcoholism don`t affect on show up of patients )\n"
   ]
  },
  {
   "cell_type": "markdown",
   "id": "6edd7fc7",
   "metadata": {},
   "source": [
    "### Research Question 8  (  How handicap affect on the show up of patient  )"
   ]
  },
  {
   "cell_type": "code",
   "execution_count": 49,
   "id": "9d17ddea",
   "metadata": {},
   "outputs": [
    {
     "data": {
      "text/plain": [
       "0    108285\n",
       "1      2042\n",
       "2       183\n",
       "3        13\n",
       "4         3\n",
       "Name: handicap, dtype: int64"
      ]
     },
     "execution_count": 49,
     "metadata": {},
     "output_type": "execute_result"
    }
   ],
   "source": [
    "# count of haveing a handicap\n",
    "df['handicap'].value_counts()"
   ]
  },
  {
   "cell_type": "markdown",
   "id": "20973901",
   "metadata": {},
   "source": [
    "that mean 108285 of patients had not  handicap and 2042 had 'handicap 1' and 183 had 'handicap 2'\n",
    "and 13 had 'handicap 3' and 3 had 'handicap 4'"
   ]
  },
  {
   "cell_type": "code",
   "execution_count": 50,
   "id": "2a340966",
   "metadata": {},
   "outputs": [
    {
     "data": {
      "text/plain": [
       "0    86373\n",
       "1     1676\n",
       "2      146\n",
       "3       10\n",
       "4        2\n",
       "Name: handicap, dtype: int64"
      ]
     },
     "execution_count": 50,
     "metadata": {},
     "output_type": "execute_result"
    }
   ],
   "source": [
    "# count of haveing a handicap for pateints attended\n",
    "df_no['handicap'].value_counts()"
   ]
  },
  {
   "cell_type": "markdown",
   "id": "886a4eae",
   "metadata": {},
   "source": [
    "that mean 86373 of patients attendent had not  handicap and 1676 had 'handicap 1' and 146 had 'handicap 2'\n",
    "and 10 had 'handicap 3' and 2 had 'handicap 4'"
   ]
  },
  {
   "cell_type": "code",
   "execution_count": 51,
   "id": "d7e97d12",
   "metadata": {},
   "outputs": [
    {
     "data": {
      "text/plain": [
       "0    21912\n",
       "1      366\n",
       "2       37\n",
       "3        3\n",
       "4        1\n",
       "Name: handicap, dtype: int64"
      ]
     },
     "execution_count": 51,
     "metadata": {},
     "output_type": "execute_result"
    }
   ],
   "source": [
    "# count of haveing a handicap for pateints not attended\n",
    "df_yes['handicap'].value_counts()"
   ]
  },
  {
   "cell_type": "markdown",
   "id": "1967c08c",
   "metadata": {},
   "source": [
    "that mean 21912 of patients not attendent had not  handicap and 366 had 'handicap 1' and 37 had 'handicap 2'\n",
    "and 3 had 'handicap 3' and 1 had 'handicap 4'"
   ]
  },
  {
   "cell_type": "code",
   "execution_count": 52,
   "id": "3bf26dbe",
   "metadata": {},
   "outputs": [
    {
     "data": {
      "image/png": "[encoded data removed]",
      "text/plain": [
       "<Figure size 432x288 with 1 Axes>"
      ]
     },
     "metadata": {
      "needs_background": "light"
     },
     "output_type": "display_data"
    }
   ],
   "source": [
    "#now we display the realation between handcap and show up of patients\n",
    "df_no['handicap'].value_counts().plot(kind='bar' ,alpha =.5,color=['red'],label = 'attend' )\n",
    "df_yes['handicap'].value_counts().plot(kind='bar' ,alpha =.5,color=['black'],label = 'not_attend')\n",
    "plt.title('realation between having handicap and show up')\n",
    "plt.xlabel('handicap')\n",
    "plt.ylabel('counts')\n",
    "plt.legend();\n"
   ]
  },
  {
   "cell_type": "markdown",
   "id": "e8d9c9a7",
   "metadata": {},
   "source": [
    "As we see there are about 79.7% of 108286 pateints not have alcoholism had attended 20% of 108286  pateints not have handicap had not attended \n",
    "\n",
    "and about 82% of 2042 pateints have handicap 1  had attended and about 18% of 2042 pateints have handicap 1  had not attended \n",
    "\n",
    "and about 79.9% of 183 pateints have handicap 2  had attended and about 20% of 183 pateints have handicap 2  had not attended \n",
    "\n",
    "and about 77% of 13 pateints have handicap 3  had attended and about 23% of 13 pateints have handicap 3 had not attended \n",
    "\n",
    "and about 66% of 3 pateints have handicap 4  had attended and about 33% of 3 pateints have handicap 4 had not attended \n",
    " \n",
    "so based on that the percentages :( the  having handicap don`t affect on show up of patients )"
   ]
  },
  {
   "cell_type": "markdown",
   "id": "e1c9165e",
   "metadata": {},
   "source": [
    "### Research Question 9  (  How receving sms affect on the show up of patient  )"
   ]
  },
  {
   "cell_type": "code",
   "execution_count": 53,
   "id": "0af3ce9d",
   "metadata": {},
   "outputs": [
    {
     "data": {
      "text/plain": [
       "0    75044\n",
       "1    35482\n",
       "Name: sms_received, dtype: int64"
      ]
     },
     "execution_count": 53,
     "metadata": {},
     "output_type": "execute_result"
    }
   ],
   "source": [
    "# counts of  receving sms\n",
    "df['sms_received'].value_counts()"
   ]
  },
  {
   "cell_type": "markdown",
   "id": "da03ab7a",
   "metadata": {},
   "source": [
    "that mean 35482 of patients had received sms and 75044 had not"
   ]
  },
  {
   "cell_type": "code",
   "execution_count": 54,
   "id": "636a0d30",
   "metadata": {},
   "outputs": [
    {
     "data": {
      "text/plain": [
       "0    62509\n",
       "1    25698\n",
       "Name: sms_received, dtype: int64"
      ]
     },
     "execution_count": 54,
     "metadata": {},
     "output_type": "execute_result"
    }
   ],
   "source": [
    "# counts of  receving sms for pateints attended\n",
    "df_no['sms_received'].value_counts()"
   ]
  },
  {
   "cell_type": "markdown",
   "id": "625d1398",
   "metadata": {},
   "source": [
    "that mean 25698 of patients attended had received sms and 62509 had not"
   ]
  },
  {
   "cell_type": "code",
   "execution_count": 55,
   "id": "56a84710",
   "metadata": {},
   "outputs": [
    {
     "data": {
      "text/plain": [
       "0    12535\n",
       "1     9784\n",
       "Name: sms_received, dtype: int64"
      ]
     },
     "execution_count": 55,
     "metadata": {},
     "output_type": "execute_result"
    }
   ],
   "source": [
    "# counts of  receving sms for pateints not attended\n",
    "df_yes['sms_received'].value_counts()"
   ]
  },
  {
   "cell_type": "markdown",
   "id": "188db2b2",
   "metadata": {},
   "source": [
    "that mean 9784 of patients ont attended had received sms and 12535 had not"
   ]
  },
  {
   "cell_type": "code",
   "execution_count": 56,
   "id": "91b83fa7",
   "metadata": {},
   "outputs": [
    {
     "data": {
      "image/png": "[encoded data removed]",
      "text/plain": [
       "<Figure size 432x288 with 1 Axes>"
      ]
     },
     "metadata": {
      "needs_background": "light"
     },
     "output_type": "display_data"
    }
   ],
   "source": [
    "#now we display the realation between sms_received and show up of patients\n",
    "df_no['sms_received'].value_counts().plot(kind='bar' ,alpha =.5,color=['red'],label = 'attend' )\n",
    "df_yes['sms_received'].value_counts().plot(kind='bar' ,alpha =.5,color=['black'],label = 'not_attend' )\n",
    "plt.title('realation between receving sms and show up')\n",
    "plt.xlabel('sms_received')\n",
    "plt.ylabel('counts')\n",
    "plt.legend();\n"
   ]
  },
  {
   "cell_type": "markdown",
   "id": "7776babb",
   "metadata": {},
   "source": [
    "As we see there are about 83% of 75045 pateints not receve sms had attended and about 72% of 35482 pateints receve sms had attended\n",
    "and 17% of 75045  pateints not receve sms had not attended and about 27.5% of 35482 pateints receve sms had not attended\n",
    "\n",
    "so based on that the percentages :( the receving sms strongly affect on show up of patients )\n"
   ]
  },
  {
   "cell_type": "markdown",
   "id": "30e1e9fd",
   "metadata": {},
   "source": [
    "<a id='conclusions'></a>\n",
    "## Conclusions\n",
    "\n",
    "Ok, here we finished our analysis process\n",
    "\n",
    "let's look over the project and summrize the steps :\n",
    "\n",
    "### step_1 : data wrangling\n",
    "\n",
    "we gathered the data then moved to access and clean it and we found that :\n",
    "1- there is no null values in the data\n",
    "2- there is no duplicated variables in the data\n",
    "3- we removed the outlires and fixed the columns dtype\n",
    "4- we selected the columns that we need to analysis process and dropped the others\n",
    "5- we splited the dataframe to two dataframes to complete analysis\n",
    "\n",
    "### step_2 : Exploratory Data Analysis\n",
    "\n",
    "we asked nine questions to explore the data and we selected the 'no_show' variable to be the dependent variable\n",
    "and ('gender','age','neighbourhood','scholarship','hipertension','diabetes','handicap','sms_received') as independent variables we did the analysis to find What factors are important for us to know in order to predict if a patient will \n",
    "show up for their scheduled appointment? \n",
    "And we used the statistical methods and two tools (histogram , barchart) in our visualisation and found that :"
   ]
  },
  {
   "cell_type": "markdown",
   "id": "d673e8ff",
   "metadata": {},
   "source": [
    "#### Age : age affect on show up of patients which class [0;10] years old had the maximum counts of attendance"
   ]
  },
  {
   "cell_type": "markdown",
   "id": "47815b6d",
   "metadata": {},
   "source": [
    "#### Neighbourhood : neighbourhood strongly affect on show up of patients "
   ]
  },
  {
   "cell_type": "markdown",
   "id": "56f699be",
   "metadata": {},
   "source": [
    "#### Scholarship : Scholarship affect on on patient show up of patients"
   ]
  },
  {
   "cell_type": "markdown",
   "id": "35821b0c",
   "metadata": {},
   "source": [
    "#### Sms_received : receving sms strongly affect on patient show up"
   ]
  },
  {
   "cell_type": "markdown",
   "id": "db3c534e",
   "metadata": {},
   "source": [
    "### limitations :     "
   ]
  },
  {
   "cell_type": "markdown",
   "id": "2350349d",
   "metadata": {},
   "source": [
    "After finishing the analysis process ,we couldn't find that there is no correlation between patients show up and the factors 'gender','hipertension','diabetes','alcoholism' and 'handicap'\n"
   ]
  },
  {
   "cell_type": "markdown",
   "id": "f7f18d7d",
   "metadata": {},
   "source": [
    "ok we here finished or analysis \n",
    "I hope to I could solve the problem efficiently , have a nice time "
   ]
  },
  {
   "cell_type": "code",
   "execution_count": null,
   "id": "60e1b25a",
   "metadata": {},
   "outputs": [],
   "source": []
  }
 ],
 "metadata": {
  "kernelspec": {
   "display_name": "Python 3",
   "language": "python",
   "name": "python3"
  },
  "language_info": {
   "codemirror_mode": {
    "name": "ipython",
    "version": 3
   },
   "file_extension": ".py",
   "mimetype": "text/x-python",
   "name": "python",
   "nbconvert_exporter": "python",
   "pygments_lexer": "ipython3",
   "version": "3.8.8"
  }
 },
 "nbformat": 4,
 "nbformat_minor": 5
}
